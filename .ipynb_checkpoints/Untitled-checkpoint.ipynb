{
 "cells": [
  {
   "cell_type": "code",
   "execution_count": 4,
   "id": "6ab8fa2e",
   "metadata": {},
   "outputs": [],
   "source": [
    "# Import the required libraries\n",
    "import pandas as pd\n",
    "import numpy as np"
   ]
  },
  {
   "cell_type": "code",
   "execution_count": 8,
   "id": "78ce4502",
   "metadata": {},
   "outputs": [
    {
     "data": {
      "text/html": [
       "<div>\n",
       "<style scoped>\n",
       "    .dataframe tbody tr th:only-of-type {\n",
       "        vertical-align: middle;\n",
       "    }\n",
       "\n",
       "    .dataframe tbody tr th {\n",
       "        vertical-align: top;\n",
       "    }\n",
       "\n",
       "    .dataframe thead th {\n",
       "        text-align: right;\n",
       "    }\n",
       "</style>\n",
       "<table border=\"1\" class=\"dataframe\">\n",
       "  <thead>\n",
       "    <tr style=\"text-align: right;\">\n",
       "      <th></th>\n",
       "      <th>price</th>\n",
       "      <th>maint</th>\n",
       "      <th>doors</th>\n",
       "      <th>persons</th>\n",
       "      <th>lug_boot</th>\n",
       "      <th>safety</th>\n",
       "      <th>result</th>\n",
       "    </tr>\n",
       "  </thead>\n",
       "  <tbody>\n",
       "    <tr>\n",
       "      <th>0</th>\n",
       "      <td>vhigh</td>\n",
       "      <td>vhigh</td>\n",
       "      <td>2</td>\n",
       "      <td>2</td>\n",
       "      <td>small</td>\n",
       "      <td>low</td>\n",
       "      <td>unacc</td>\n",
       "    </tr>\n",
       "    <tr>\n",
       "      <th>1</th>\n",
       "      <td>vhigh</td>\n",
       "      <td>vhigh</td>\n",
       "      <td>2</td>\n",
       "      <td>2</td>\n",
       "      <td>small</td>\n",
       "      <td>med</td>\n",
       "      <td>unacc</td>\n",
       "    </tr>\n",
       "    <tr>\n",
       "      <th>2</th>\n",
       "      <td>vhigh</td>\n",
       "      <td>vhigh</td>\n",
       "      <td>2</td>\n",
       "      <td>2</td>\n",
       "      <td>small</td>\n",
       "      <td>high</td>\n",
       "      <td>unacc</td>\n",
       "    </tr>\n",
       "    <tr>\n",
       "      <th>3</th>\n",
       "      <td>vhigh</td>\n",
       "      <td>vhigh</td>\n",
       "      <td>2</td>\n",
       "      <td>2</td>\n",
       "      <td>med</td>\n",
       "      <td>low</td>\n",
       "      <td>unacc</td>\n",
       "    </tr>\n",
       "    <tr>\n",
       "      <th>4</th>\n",
       "      <td>vhigh</td>\n",
       "      <td>vhigh</td>\n",
       "      <td>2</td>\n",
       "      <td>2</td>\n",
       "      <td>med</td>\n",
       "      <td>med</td>\n",
       "      <td>unacc</td>\n",
       "    </tr>\n",
       "  </tbody>\n",
       "</table>\n",
       "</div>"
      ],
      "text/plain": [
       "   price  maint  doors  persons lug_boot safety result\n",
       "0  vhigh  vhigh      2        2    small    low  unacc\n",
       "1  vhigh  vhigh      2        2    small    med  unacc\n",
       "2  vhigh  vhigh      2        2    small   high  unacc\n",
       "3  vhigh  vhigh      2        2      med    low  unacc\n",
       "4  vhigh  vhigh      2        2      med    med  unacc"
      ]
     },
     "execution_count": 8,
     "metadata": {},
     "output_type": "execute_result"
    }
   ],
   "source": [
    "# Load the data \n",
    "df = pd.read_csv(\"project1 1.data\",header=None, names=['price','maint','doors','persons','lug_boot','safety','result'])\n",
    "test = pd.read_csv(\"project1_test.data\",header=None, names=['price','maint','doors','persons','lug_boot','safety','result'])\n",
    "df.head()\n"
   ]
  },
  {
   "cell_type": "code",
   "execution_count": 9,
   "id": "efc85507",
   "metadata": {},
   "outputs": [],
   "source": [
    "\n",
    "\n",
    "# Define the calculate entropy function\n",
    "def calculate_entropy(df_label):\n",
    "    classes,class_counts = np.unique(df_label,return_counts = True)\n",
    "    entropy_value = np.sum([(-class_counts[i]/np.sum(class_counts))*np.log2(class_counts[i]/np.sum(class_counts)) \n",
    "                        for i in range(len(classes))])\n",
    "    return entropy_value\n",
    "\n"
   ]
  },
  {
   "cell_type": "code",
   "execution_count": 10,
   "id": "0d422339",
   "metadata": {},
   "outputs": [],
   "source": [
    "# Define the calculate information gain function\n",
    "def calculate_information_gain(dataset,feature,label): \n",
    "    # Calculate the dataset entropy\n",
    "    dataset_entropy = calculate_entropy(dataset[label])   \n",
    "    values,feat_counts= np.unique(dataset[feature],return_counts=True)\n",
    "    \n",
    "    # Calculate the weighted feature entropy                                # Call the calculate_entropy function\n",
    "    weighted_feature_entropy = np.sum([(feat_counts[i]/np.sum(feat_counts))*calculate_entropy(dataset.where(dataset[feature]\n",
    "                              ==values[i]).dropna()[label]) for i in range(len(values))])    \n",
    "    feature_info_gain = dataset_entropy - weighted_feature_entropy\n",
    "    return feature_info_gain\n"
   ]
  },
  {
   "cell_type": "code",
   "execution_count": 12,
   "id": "8e2cbd08",
   "metadata": {},
   "outputs": [
    {
     "data": {
      "text/plain": [
       "Index(['price', 'maint', 'doors', 'persons', 'lug_boot', 'safety'], dtype='object')"
      ]
     },
     "execution_count": 12,
     "metadata": {},
     "output_type": "execute_result"
    }
   ],
   "source": [
    "# Set the features and label\n",
    "features = df.columns[:-1]\n",
    "label = 'result'\n",
    "parent=None\n",
    "features"
   ]
  },
  {
   "cell_type": "code",
   "execution_count": 13,
   "id": "dc6d21bc",
   "metadata": {},
   "outputs": [
    {
     "ename": "NameError",
     "evalue": "name 'create_decision_tree' is not defined",
     "output_type": "error",
     "traceback": [
      "\u001b[0;31m---------------------------------------------------------------------------\u001b[0m",
      "\u001b[0;31mNameError\u001b[0m                                 Traceback (most recent call last)",
      "Input \u001b[0;32mIn [13]\u001b[0m, in \u001b[0;36m<module>\u001b[0;34m\u001b[0m\n\u001b[1;32m      1\u001b[0m \u001b[38;5;66;03m# Train the decision tree model\u001b[39;00m\n\u001b[0;32m----> 2\u001b[0m decision_tree \u001b[38;5;241m=\u001b[39m \u001b[43mcreate_decision_tree\u001b[49m(df,df,features,label,parent)\n",
      "\u001b[0;31mNameError\u001b[0m: name 'create_decision_tree' is not defined"
     ]
    }
   ],
   "source": [
    "# Define the create decision tree function \n",
    "def create_decision_tree(dataset,df,features,label,parent):\n",
    "    \n",
    "    datum = np.unique(df[label],return_counts=True)\n",
    "    unique_data = np.unique(dataset[label])\n",
    "    \n",
    "    if len(unique_data) <= 1:\n",
    "        return unique_data[0]\n",
    "    elif len(unique_data) == 0:\n",
    "        return unique_data[np.argmax(datum[1])]\n",
    "    elif len(features) == 0:\n",
    "        return parent\n",
    "    \n",
    "    else \n",
    "        parent = unique_data[np.argmax(datum[1])]\n",
    "        \n",
    "        # call the calculate_information_gain_function\n",
    "        item_values = [calculate_information_gain(dataset,feature,label) for feature in features]\n",
    "        \n",
    "        for values in np.unique(dataset[optimum_feature]):\n",
    "            min_data = dataset.where(dataset[optimum_feature] == value).dropna()\n",
    "            \n",
    "            #Recusrsive call to create_decision_tree\n",
    "            \n",
    "            min_tree = create_decision_tree(min_data,df,features,label,parent)\n",
    "            \n",
    "            decision_tree[optimum_feature][value] = min_tree\n",
    "            \n",
    "    return (decision_tree)\n",
    "            \n",
    "            "
   ]
  },
  {
   "cell_type": "code",
   "execution_count": null,
   "id": "e1c99bfb",
   "metadata": {},
   "outputs": [],
   "source": [
    "# Train the decision tree model\n",
    "decision_tree = create_decision_tree(df,df,features,label,parent)\n",
    "\n"
   ]
  }
 ],
 "metadata": {
  "kernelspec": {
   "display_name": "Python 3 (ipykernel)",
   "language": "python",
   "name": "python3"
  },
  "language_info": {
   "codemirror_mode": {
    "name": "ipython",
    "version": 3
   },
   "file_extension": ".py",
   "mimetype": "text/x-python",
   "name": "python",
   "nbconvert_exporter": "python",
   "pygments_lexer": "ipython3",
   "version": "3.8.10"
  }
 },
 "nbformat": 4,
 "nbformat_minor": 5
}
